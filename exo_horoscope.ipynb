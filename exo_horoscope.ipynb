{
 "cells": [
  {
   "cell_type": "code",
   "execution_count": 41,
   "metadata": {},
   "outputs": [],
   "source": [
    "import numpy as np\n",
    "import astropy.units as u\n",
    "from astropy.coordinates import SkyCoord\n",
    "from astroquery.ipac.nexsci.nasa_exoplanet_archive import NasaExoplanetArchive\n",
    "from geopy import geocoders  \n",
    "from geopy.geocoders import Nominatim\n",
    "from datetime import datetime\n",
    "from astropy.coordinates import EarthLocation, AltAz, SkyCoord\n",
    "from astropy.time import Time"
   ]
  },
  {
   "cell_type": "code",
   "execution_count": 31,
   "id": "a2cbc65b",
   "metadata": {},
   "outputs": [],
   "source": [
    "def julian_date(date_time):\n",
    "    jd = date_time.toordinal() + 1721424.5 + (date_time.hour + date_time.minute / 60 + date_time.second / 3600) / 24\n",
    "    return jd"
   ]
  },
  {
   "cell_type": "code",
   "execution_count": 11,
   "id": "e03829c4",
   "metadata": {},
   "outputs": [],
   "source": [
    "def gst_from_jd(jd):\n",
    "    '''\n",
    "    Calculate Greenwich Sidereal Time (GST) from Julian Date.\n",
    "    '''\n",
    "    T = (jd - 2451545.0) / 36525\n",
    "    GST = 280.46061837 + 360.98564736629 * (jd - 2451545) + T**2 * (0.000387933 - T / 38710000)\n",
    "    GST = GST % 360 # Normalize to 0 - 360 degrees\n",
    "    return GST"
   ]
  },
  {
   "cell_type": "code",
   "execution_count": 12,
   "id": "449452f5",
   "metadata": {},
   "outputs": [],
   "source": [
    "def lst_from_gst(gst, longitude):\n",
    "    \"\"\"\n",
    "    Calculate Local Sidereal Time (LST) from Greenwich Sidereal Time (GST) and longitude.\n",
    "    \"\"\"\n",
    "    LST = gst + longitude\n",
    "    LST = LST % 360  # Normalize to 0 - 360 degrees\n",
    "    return LST"
   ]
  },
  {
   "cell_type": "code",
   "execution_count": 13,
   "id": "907fe29f",
   "metadata": {},
   "outputs": [],
   "source": [
    "def zenith_ra_dec(latitude, longitude, date_time):\n",
    "    \"\"\"\n",
    "    Compute the Right Ascension (RA) and Declination (Dec) of the zenith for a given location and date.\n",
    "    \"\"\"\n",
    "    jd = julian_date(date_time)\n",
    "    gst = gst_from_jd(jd)\n",
    "    lst = lst_from_gst(gst, longitude)\n",
    "    dec = latitude\n",
    "    ra = lst\n",
    "    return ra, dec"
   ]
  },
  {
   "cell_type": "code",
   "execution_count": 64,
   "id": "ec195274",
   "metadata": {},
   "outputs": [],
   "source": [
    "def map_eccentricity_to_trait(eccentricity):\n",
    "    if eccentricity == 0:\n",
    "        return \"are perfectly stable\"\n",
    "    elif 0 < eccentricity < 0.3:\n",
    "        return \"prefer stability\"\n",
    "    elif 0.3 <= eccentricity < 0.6:\n",
    "        return \"are balanced\"\n",
    "    elif 0.6 <= eccentricity < 0.9:\n",
    "        return \"prefer excitement\"\n",
    "    else:\n",
    "        return \"embrace change\"\n",
    "\n",
    "def map_semimajor_axis_to_trait(semimajor_axis):\n",
    "    if semimajor_axis < 0.1:\n",
    "        return \"are 'close to the action' and constantly influenced by your star's energy, suggesting a very outgoing and active nature\"\n",
    "    elif 0.1 <= semimajor_axis < 1:\n",
    "        return \"are still within a region of significant stellar influence, indicating a generally social and engaging character\"\n",
    "    elif 1 <= semimajor_axis < 5:\n",
    "        return \"strike a balance between the inner and outer regions, reflecting a well-rounded personality that is equally comfortable in social situations and solitude\"\n",
    "    elif 5 <= semimajor_axis < 30:\n",
    "        return \"are farther from the star, implying a more reserved and introspective nature, preferring less direct interaction\"\n",
    "    else:\n",
    "        return \"are on the outskirts, indicating a highly introspective and solitary disposition, thriving in their own space away from the hustle and bustle\""
   ]
  },
  {
   "cell_type": "code",
   "execution_count": 65,
   "id": "b8eeb876",
   "metadata": {},
   "outputs": [],
   "source": [
    "def map_orbital_period_to_trait(orbital_period):\n",
    "    if orbital_period < 10:\n",
    "        return \"rapid orbits suggest a fast-paced and reactive thinking style\"\n",
    "    elif 10 <= orbital_period < 100:\n",
    "        return \"orbits allow for rapid changes and adaptation, indicating an active and adaptive thinking style\"\n",
    "    elif 100 <= orbital_period < 365:\n",
    "        return \"orbital periods tend to experience balanced conditions, suggesting a balanced and analytical thinking style\"\n",
    "    elif 365 <= orbital_period < 3650:\n",
    "        return \"planets take longer to orbit their stars, implying a more deliberate and thoughtful approach\"\n",
    "    else:\n",
    "        return \"very long orbital periods embody a reflective and contemplative thinking style\"\n",
    "\n",
    "def map_stellar_mass_to_trait(stellar_mass):\n",
    "    if stellar_mass < 0.5:\n",
    "        return \"stable and enduring\"\n",
    "    elif 0.5 <= stellar_mass < 1.5:\n",
    "        return \"balanced and nurturing\"\n",
    "    elif 1.5 <= stellar_mass < 3:\n",
    "        return \"dynamic and charismatic\"\n",
    "    else:\n",
    "        return \"intense and transformative\""
   ]
  },
  {
   "cell_type": "code",
   "execution_count": 94,
   "id": "7ffd6f96",
   "metadata": {},
   "outputs": [],
   "source": [
    "def generate_horoscope_message(user, year, month, day, hour, minute, second, citystate):\n",
    "    geolocator = Nominatim(user_agent='moeur')\n",
    "    location = geolocator.geocode(citystate)\n",
    "    date_time = datetime(year, month, day, hour, minute, second)\n",
    "    birth_ra, birth_dec = location[1][0], location[1][1]\n",
    "    zen_ra, zen_dec = zenith_ra_dec(birth_ra, birth_dec, date_time)\n",
    "    table = NasaExoplanetArchive.query_region(\n",
    "    table=\"ps\", coordinates=SkyCoord(zen_ra * u.deg, zen_dec * u.deg),\n",
    "    radius=4 * u.deg) \n",
    "    coords = SkyCoord(zen_ra * u.deg, zen_dec * u.deg)\n",
    "    stars_coords = SkyCoord(table['ra'], table['dec'], unit=(u.deg, u.deg))\n",
    "    distances = coords.separation(stars_coords)\n",
    "    closest_index = distances.argmin()\n",
    "    closest_object = table[closest_index]\n",
    "    closest_table = NasaExoplanetArchive.query_object(closest_object['pl_name'])\n",
    "    name = closest_table['pl_name'][0]\n",
    "    star = closest_table['hostname'][0]\n",
    "    eccentricity = np.nanmean(closest_table[\"pl_orbeccen\"])\n",
    "    semi_major_axis = np.nanmean(np.asarray(closest_table[\"pl_orbsmax\"].value))\n",
    "    period = np.nanmean(np.asarray(closest_table[\"pl_orbper\"].value))\n",
    "    stellar_mass = np.nanmean(np.asarray(closest_table[\"st_mass\"].value))\n",
    "    \n",
    "    eccentricity_trait = map_eccentricity_to_trait(eccentricity)\n",
    "    axis_trait = map_semimajor_axis_to_trait(semi_major_axis)\n",
    "    period_trait = map_orbital_period_to_trait(period)\n",
    "    stellar_mass_trait = map_stellar_mass_to_trait(stellar_mass)\n",
    "    \n",
    "    message = (f\"{user}, your birth exoplanet is {name} orbiting star {star}. \"\n",
    "               f\"Based on an eccentricity of {eccentricity:.2f}, you {eccentricity_trait}. \"\n",
    "               f\"With an orbit semi-major axis of {semi_major_axis:.2f} AU, you {axis_trait}. \"\n",
    "               f\"With a birth exoplanet period of {period:.2f} days, these {period_trait}, \"\n",
    "               f\"and with a stellar mass of {stellar_mass:.2f} solar masses, you are {stellar_mass_trait}.\")\n",
    "    \n",
    "    return message"
   ]
  },
  {
   "cell_type": "code",
   "execution_count": 95,
   "id": "535a3f02",
   "metadata": {},
   "outputs": [
    {
     "data": {
      "text/plain": [
       "\"Chelsea, your birth exoplanet is WASP-3 b orbiting star WASP-3. Based on an eccentricity of 0.00, you prefer stability. With an orbit semi-major axis of 0.03 AU, you are 'close to the action' and constantly influenced by your star's energy, suggesting a very outgoing and active nature. With a birth exoplanet period of 1.85 days, these rapid orbits suggest a fast-paced and reactive thinking style, and with a stellar mass of 1.28 solar masses, you are balanced and nurturing.\""
      ]
     },
     "execution_count": 95,
     "metadata": {},
     "output_type": "execute_result"
    }
   ],
   "source": [
    "generate_horoscope_message('Chelsea', 1991, 4, 27, 12, 4, 0, \"Redlands California\")"
   ]
  },
  {
   "cell_type": "code",
   "execution_count": null,
   "id": "eb3e6f9c",
   "metadata": {},
   "outputs": [],
   "source": []
  }
 ],
 "metadata": {
  "kernelspec": {
   "display_name": "codeastro",
   "language": "python",
   "name": "python3"
  },
  "language_info": {
   "codemirror_mode": {
    "name": "ipython",
    "version": 3
   },
   "file_extension": ".py",
   "mimetype": "text/x-python",
   "name": "python",
   "nbconvert_exporter": "python",
   "pygments_lexer": "ipython3",
   "version": "3.10.14"
  }
 },
 "nbformat": 4,
 "nbformat_minor": 5
}
