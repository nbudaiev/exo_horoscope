{
 "cells": [
  {
   "cell_type": "code",
   "execution_count": 1,
   "metadata": {},
   "outputs": [],
   "source": [
    "import pstats\n",
    "\n",
    "mystats = pstats.Stats(\"profiler_output_main.txt\")"
   ]
  },
  {
   "cell_type": "code",
   "execution_count": 3,
   "metadata": {},
   "outputs": [
    {
     "name": "stdout",
     "output_type": "stream",
     "text": [
      "Thu Jul 18 12:24:24 2024    profiler_output_main.txt\n",
      "\n",
      "         1268191 function calls (1238831 primitive calls) in 1.735 seconds\n",
      "\n",
      "   Ordered by: internal time\n",
      "   List reduced from 5177 to 45 due to restriction <45>\n",
      "\n",
      "   ncalls  tottime  percall  cumtime  percall filename:lineno(function)\n",
      "        1    0.584    0.584    0.584    0.584 {built-in method mkl._py_mkl_service.get_version}\n",
      "      753    0.065    0.000    0.065    0.000 {built-in method marshal.loads}\n",
      "     4330    0.059    0.000    0.059    0.000 {built-in method posix.stat}\n",
      "       63    0.049    0.001    0.052    0.001 {built-in method _imp.create_dynamic}\n",
      "     9319    0.047    0.000    0.047    0.000 {built-in method posix.lstat}\n",
      " 1448/261    0.044    0.000    0.085    0.000 /Users/micahoeur/opt/anaconda3/envs/codeastro/lib/python3.10/sre_parse.py:494(_parse)\n",
      "      754    0.039    0.000    0.039    0.000 {method 'read' of '_io.BufferedReader' objects}\n",
      "      753    0.033    0.000    0.033    0.000 {built-in method io.open_code}\n",
      "2153/2137    0.029    0.000    0.285    0.000 {built-in method builtins.__build_class__}\n",
      "2044/2010    0.025    0.000    0.046    0.000 /Users/micahoeur/opt/anaconda3/envs/codeastro/lib/python3.10/site-packages/astropy/units/core.py:2416(_expand_and_gather)\n",
      "9263/4922    0.016    0.000    0.063    0.000 /Users/micahoeur/opt/anaconda3/envs/codeastro/lib/python3.10/site-packages/astropy/units/core.py:2069(__call__)\n",
      "   145883    0.016    0.000    0.017    0.000 {built-in method builtins.isinstance}\n",
      "      153    0.014    0.000    0.071    0.000 /Users/micahoeur/opt/anaconda3/envs/codeastro/lib/python3.10/site-packages/astropy/units/core.py:2527(_add_prefixes)\n",
      "  816/815    0.014    0.000    0.084    0.000 /Users/micahoeur/opt/anaconda3/envs/codeastro/lib/python3.10/posixpath.py:401(_joinrealpath)\n",
      "     1201    0.013    0.000    0.016    0.000 /Users/micahoeur/opt/anaconda3/envs/codeastro/lib/python3.10/sre_compile.py:292(_optimize_charset)\n",
      "     9347    0.012    0.000    0.019    0.000 /Users/micahoeur/opt/anaconda3/envs/codeastro/lib/python3.10/posixpath.py:71(join)\n",
      " 2554/231    0.012    0.000    0.034    0.000 /Users/micahoeur/opt/anaconda3/envs/codeastro/lib/python3.10/sre_compile.py:87(_compile)\n",
      "     1331    0.012    0.000    0.079    0.000 <frozen importlib._bootstrap_external>:1536(find_spec)\n",
      "6299/6265    0.012    0.000    0.065    0.000 /Users/micahoeur/opt/anaconda3/envs/codeastro/lib/python3.10/site-packages/astropy/units/core.py:2335(__init__)\n",
      "        1    0.011    0.011    0.011    0.011 {method 'load_verify_locations' of '_ssl._SSLContext' objects}\n",
      "        7    0.009    0.001    0.081    0.012 /Users/micahoeur/opt/anaconda3/envs/codeastro/lib/python3.10/site-packages/astropy/units/core.py:200(add_enabled_units)\n",
      "    25920    0.009    0.000    0.009    0.000 /Users/micahoeur/opt/anaconda3/envs/codeastro/lib/python3.10/sre_parse.py:234(__next)\n",
      "     1737    0.009    0.000    0.013    0.000 /Users/micahoeur/opt/anaconda3/envs/codeastro/lib/python3.10/posixpath.py:338(normpath)\n",
      "    24675    0.009    0.000    0.009    0.000 {built-in method builtins.hasattr}\n",
      "     4322    0.009    0.000    0.026    0.000 /Users/micahoeur/opt/anaconda3/envs/codeastro/lib/python3.10/site-packages/astropy/units/core.py:1799(__init__)\n",
      "84311/81246    0.009    0.000    0.009    0.000 {built-in method builtins.len}\n",
      "21933/21866    0.008    0.000    0.010    0.000 {built-in method builtins.getattr}\n",
      "       98    0.008    0.000    0.139    0.001 /Users/micahoeur/opt/anaconda3/envs/codeastro/lib/python3.10/inspect.py:850(getmodule)\n",
      "      849    0.007    0.000    0.109    0.000 <frozen importlib._bootstrap>:921(_find_spec)\n",
      "      119    0.007    0.000    0.007    0.000 {built-in method posix.listdir}\n",
      "    74132    0.007    0.000    0.007    0.000 {method 'append' of 'list' objects}\n",
      "      753    0.007    0.000    0.178    0.000 <frozen importlib._bootstrap_external>:950(get_code)\n",
      "    63/56    0.006    0.000    0.016    0.000 {built-in method _imp.exec_dynamic}\n",
      "2202/1492    0.006    0.000    0.022    0.000 {built-in method __new__ of type object at 0x109e09920}\n",
      "      245    0.006    0.000    0.015    0.000 /Users/micahoeur/opt/anaconda3/envs/codeastro/lib/python3.10/site-packages/astropy/units/utils.py:34(_iter_unit_summary)\n",
      "      162    0.006    0.000    0.010    0.000 /Users/micahoeur/opt/anaconda3/envs/codeastro/lib/python3.10/inspect.py:744(cleandoc)\n",
      "    26012    0.006    0.000    0.018    0.000 {method 'add' of 'set' objects}\n",
      "3912/2559    0.006    0.000    0.048    0.000 /Users/micahoeur/opt/anaconda3/envs/codeastro/lib/python3.10/site-packages/astropy/units/core.py:2463(decompose)\n",
      "     7274    0.006    0.000    0.015    0.000 <frozen importlib._bootstrap_external>:126(_path_join)\n",
      "    17643    0.006    0.000    0.008    0.000 /Users/micahoeur/opt/anaconda3/envs/codeastro/lib/python3.10/sre_parse.py:165(__getitem__)\n",
      "17981/17980    0.006    0.000    0.012    0.000 /Users/micahoeur/opt/anaconda3/envs/codeastro/lib/python3.10/site-packages/astropy/units/core.py:2282(__hash__)\n",
      "    10108    0.006    0.000    0.008    0.000 /Users/micahoeur/opt/anaconda3/envs/codeastro/lib/python3.10/site-packages/astropy/units/core.py:927(__hash__)\n",
      "     1506    0.005    0.000    0.015    0.000 <frozen importlib._bootstrap_external>:380(cache_from_source)\n",
      "    20356    0.005    0.000    0.012    0.000 /Users/micahoeur/opt/anaconda3/envs/codeastro/lib/python3.10/sre_parse.py:255(get)\n",
      "       92    0.005    0.000    0.008    0.000 /Users/micahoeur/opt/anaconda3/envs/codeastro/lib/python3.10/site-packages/astropy/coordinates/transformations/graph.py:56(frame_comps_from_set)\n",
      "\n",
      "\n"
     ]
    },
    {
     "data": {
      "text/plain": [
       "<pstats.Stats at 0x7fa2a08ad300>"
      ]
     },
     "execution_count": 3,
     "metadata": {},
     "output_type": "execute_result"
    }
   ],
   "source": [
    "mystats.sort_stats(\"time\").print_stats(45)"
   ]
  },
  {
   "cell_type": "code",
   "execution_count": null,
   "metadata": {},
   "outputs": [],
   "source": []
  }
 ],
 "metadata": {
  "kernelspec": {
   "display_name": "codeastro",
   "language": "python",
   "name": "python3"
  },
  "language_info": {
   "codemirror_mode": {
    "name": "ipython",
    "version": 3
   },
   "file_extension": ".py",
   "mimetype": "text/x-python",
   "name": "python",
   "nbconvert_exporter": "python",
   "pygments_lexer": "ipython3",
   "version": "3.10.14"
  }
 },
 "nbformat": 4,
 "nbformat_minor": 2
}
