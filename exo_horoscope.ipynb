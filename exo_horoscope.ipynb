{
 "cells": [
  {
   "cell_type": "code",
   "execution_count": 18,
   "metadata": {},
   "outputs": [],
   "source": [
    "import astropy.units as u\n",
    "from astropy.coordinates import SkyCoord\n",
    "from astroquery.ipac.nexsci.nasa_exoplanet_archive import NasaExoplanetArchive\n",
    "from geopy import geocoders  \n",
    "from geopy.geocoders import Nominatim\n",
    "from datetime import datetime"
   ]
  },
  {
   "cell_type": "code",
   "execution_count": 4,
   "id": "8f7263df",
   "metadata": {},
   "outputs": [],
   "source": [
    "geolocator = Nominatim(user_agent='moeur')\n",
    "location = geolocator.geocode(\"Long Beach California\")\n"
   ]
  },
  {
   "cell_type": "code",
   "execution_count": 12,
   "id": "ac4d9c15",
   "metadata": {},
   "outputs": [],
   "source": [
    "ra_dec = location[1]"
   ]
  },
  {
   "cell_type": "code",
   "execution_count": 13,
   "id": "a9aaf920",
   "metadata": {},
   "outputs": [
    {
     "data": {
      "text/plain": [
       "(33.7690164, -118.191604)"
      ]
     },
     "execution_count": 13,
     "metadata": {},
     "output_type": "execute_result"
    }
   ],
   "source": [
    "ra_dec"
   ]
  },
  {
   "cell_type": "code",
   "execution_count": 14,
   "id": "a2cbc65b",
   "metadata": {},
   "outputs": [],
   "source": [
    "def julian_date(date_time):\n",
    "    jd = date_time.toordinal() + 1721424.5 + (date_time.hour + date_time.minute / 60 + date_time.second / 3600) / 24\n",
    "    return jd"
   ]
  },
  {
   "cell_type": "code",
   "execution_count": 15,
   "id": "e03829c4",
   "metadata": {},
   "outputs": [],
   "source": [
    "def gst_from_jd(jd):\n",
    "    '''\n",
    "    Calculate Greenwich Sidereal Time (GST) from Julian Date.\n",
    "    '''\n",
    "    T = (jd - 2451545.0) / 36525\n",
    "    GST = 280.46061837 + 360.98564736629 * (jd - 2451545) + T**2 * (0.000387933 - T / 38710000)\n",
    "    GST = GST % 360\n",
    "    return GST"
   ]
  },
  {
   "cell_type": "code",
   "execution_count": 21,
   "id": "449452f5",
   "metadata": {},
   "outputs": [],
   "source": [
    "def lst_from_gst(gst, longitude):\n",
    "    \"\"\"\n",
    "    Calculate Local Sidereal Time (LST) from Greenwich Sidereal Time (GST) and longitude.\n",
    "    \"\"\"\n",
    "    LST = gst + longitude\n",
    "    LST = LST % 360  # Normalize to 0 - 360 degrees\n",
    "    return LST"
   ]
  },
  {
   "cell_type": "code",
   "execution_count": 22,
   "id": "907fe29f",
   "metadata": {},
   "outputs": [],
   "source": [
    "def zenith_ra_dec(latitude, longitude, date_time):\n",
    "    \"\"\"\n",
    "    Compute the Right Ascension (RA) and Declination (Dec) of the zenith for a given location and date.\n",
    "    \"\"\"\n",
    "    jd = julian_date(date_time)\n",
    "    gst = gst_from_jd(jd)\n",
    "    lst = lst_from_gst(gst, longitude)\n",
    "    dec = latitude\n",
    "    ra = lst\n",
    "    return ra, dec"
   ]
  },
  {
   "cell_type": "code",
   "execution_count": 23,
   "id": "92eba60f",
   "metadata": {},
   "outputs": [],
   "source": [
    "date_time = datetime(1998, 9, 4, 17, 0, 0)# year, month, day, hour, min, sec"
   ]
  },
  {
   "cell_type": "code",
   "execution_count": 24,
   "id": "f5df5091",
   "metadata": {},
   "outputs": [],
   "source": [
    "ra, dec = zenith_ra_dec(ra_dec[0], ra_dec[1], date_time)"
   ]
  },
  {
   "cell_type": "code",
   "execution_count": 27,
   "id": "adce4b0d",
   "metadata": {},
   "outputs": [],
   "source": [
    "test_table = NasaExoplanetArchive.query_region(\n",
    "    table=\"ps\", coordinates=SkyCoord(ra * u.deg, dec * u.deg),\n",
    "    radius=10 * u.deg)"
   ]
  },
  {
   "cell_type": "code",
   "execution_count": 32,
   "id": "45169f80",
   "metadata": {},
   "outputs": [
    {
     "data": {
      "text/html": [
       "<i>Row index=0 masked=True</i>\n",
       "<table id=\"table140378343975680\">\n",
       "<thead><tr><th>pl_name</th><th>pl_letter</th><th>hostname</th><th>hd_name</th><th>hip_name</th><th>tic_id</th><th>gaia_id</th><th>default_flag</th><th>pl_refname</th><th>sy_refname</th><th>disc_pubdate</th><th>disc_year</th><th>discoverymethod</th><th>disc_locale</th><th>disc_facility</th><th>disc_instrument</th><th>disc_telescope</th><th>disc_refname</th><th>ra</th><th>rastr</th><th>dec</th><th>decstr</th><th>glon</th><th>glat</th><th>elon</th><th>elat</th><th>pl_orbper</th><th>pl_orbpererr1</th><th>pl_orbpererr2</th><th>pl_orbperlim</th><th>pl_orbperstr</th><th>pl_orblpererr1</th><th>pl_orblper</th><th>pl_orblpererr2</th><th>pl_orblperlim</th><th>pl_orblperstr</th><th>pl_orbsmax</th><th>pl_orbsmaxerr1</th><th>pl_orbsmaxerr2</th><th>pl_orbsmaxlim</th><th>pl_orbsmaxstr</th><th>pl_orbincl</th><th>pl_orbinclerr1</th><th>pl_orbinclerr2</th><th>pl_orbincllim</th><th>pl_orbinclstr</th><th>pl_orbtper</th><th>pl_orbtpererr1</th><th>pl_orbtpererr2</th><th>pl_orbtperlim</th><th>pl_orbtperstr</th><th>pl_orbeccen</th><th>pl_orbeccenerr1</th><th>pl_orbeccenerr2</th><th>pl_orbeccenlim</th><th>pl_orbeccenstr</th><th>pl_eqt</th><th>pl_eqterr1</th><th>pl_eqterr2</th><th>pl_eqtlim</th><th>pl_eqtstr</th><th>pl_occdep</th><th>pl_occdeperr1</th><th>pl_occdeperr2</th><th>pl_occdeplim</th><th>pl_occdepstr</th><th>pl_insol</th><th>pl_insolerr1</th><th>pl_insolerr2</th><th>pl_insollim</th><th>pl_insolstr</th><th>pl_dens</th><th>pl_denserr1</th><th>pl_denserr2</th><th>pl_denslim</th><th>pl_densstr</th><th>pl_trandep</th><th>pl_trandeperr1</th><th>pl_trandeperr2</th><th>pl_trandeplim</th><th>pl_trandepstr</th><th>pl_tranmid</th><th>pl_tranmiderr1</th><th>pl_tranmiderr2</th><th>pl_tranmidlim</th><th>pl_tranmidstr</th><th>pl_trandur</th><th>pl_trandurerr1</th><th>pl_trandurerr2</th><th>pl_trandurlim</th><th>pl_trandurstr</th><th>sy_kmagstr</th><th>sy_umag</th><th>sy_umagerr1</th><th>sy_umagerr2</th><th>sy_umagstr</th><th>sy_rmag</th><th>sy_rmagerr1</th><th>sy_rmagerr2</th><th>sy_rmagstr</th><th>sy_imag</th><th>sy_imagerr1</th><th>sy_imagerr2</th><th>sy_imagstr</th><th>sy_zmag</th><th>sy_zmagerr1</th><th>sy_zmagerr2</th><th>sy_zmagstr</th><th>sy_w1mag</th><th>sy_w1magerr1</th><th>sy_w1magerr2</th><th>sy_w1magstr</th><th>sy_w2mag</th><th>sy_w2magerr1</th><th>sy_w2magerr2</th><th>sy_w2magstr</th><th>sy_w3mag</th><th>sy_w3magerr1</th><th>sy_w3magerr2</th><th>sy_w3magstr</th><th>sy_w4mag</th><th>sy_w4magerr1</th><th>sy_w4magerr2</th><th>sy_w4magstr</th><th>sy_gmag</th><th>sy_gmagerr1</th><th>sy_gmagerr2</th><th>sy_gmagstr</th><th>sy_gaiamag</th><th>sy_gaiamagerr1</th><th>sy_gaiamagerr2</th><th>sy_gaiamagstr</th><th>sy_tmag</th><th>sy_tmagerr1</th><th>sy_tmagerr2</th><th>sy_tmagstr</th><th>pl_controv_flag</th><th>pl_tsystemref</th><th>st_metratio</th><th>st_spectype</th><th>sy_kepmag</th><th>sy_kepmagerr1</th><th>sy_kepmagerr2</th><th>sy_kepmagstr</th><th>st_rotp</th><th>st_rotperr1</th><th>st_rotperr2</th><th>st_rotplim</th><th>st_rotpstr</th><th>pl_projobliq</th><th>pl_projobliqerr1</th><th>pl_projobliqerr2</th><th>pl_projobliqlim</th><th>pl_projobliqstr</th><th>x</th><th>y</th><th>z</th><th>htm20</th><th>pl_rvamp</th><th>pl_rvamperr1</th><th>pl_rvamperr2</th><th>pl_rvamplim</th><th>pl_rvampstr</th><th>pl_radj</th><th>pl_radjerr1</th><th>pl_radjerr2</th><th>pl_radjlim</th><th>pl_radjstr</th><th>pl_rade</th><th>pl_radeerr1</th><th>pl_radeerr2</th><th>pl_radelim</th><th>pl_radestr</th><th>pl_ratror</th><th>pl_ratrorerr1</th><th>pl_ratrorerr2</th><th>pl_ratrorlim</th><th>pl_ratrorstr</th><th>pl_ratdor</th><th>pl_trueobliq</th><th>pl_trueobliqerr1</th><th>pl_trueobliqerr2</th><th>pl_trueobliqlim</th><th>pl_trueobliqstr</th><th>sy_icmag</th><th>sy_icmagerr1</th><th>sy_icmagerr2</th><th>sy_icmagstr</th><th>rowupdate</th><th>pl_pubdate</th><th>st_refname</th><th>releasedate</th><th>dkin_flag</th><th>pl_ratdorerr1</th><th>pl_ratdorerr2</th><th>pl_ratdorlim</th><th>pl_ratdorstr</th><th>pl_imppar</th><th>pl_impparerr1</th><th>pl_impparerr2</th><th>pl_impparlim</th><th>pl_impparstr</th><th>pl_cmassj</th><th>pl_cmassjerr1</th><th>pl_cmassjerr2</th><th>pl_cmassjlim</th><th>pl_cmassjstr</th><th>pl_cmasse</th><th>pl_cmasseerr1</th><th>pl_cmasseerr2</th><th>pl_cmasselim</th><th>pl_cmassestr</th><th>pl_massj</th><th>pl_massjerr1</th><th>pl_massjerr2</th><th>pl_massjlim</th><th>pl_massjstr</th><th>pl_masse</th><th>pl_masseerr1</th><th>pl_masseerr2</th><th>pl_masselim</th><th>pl_massestr</th><th>pl_bmassj</th><th>pl_bmassjerr1</th><th>pl_bmassjerr2</th><th>pl_bmassjlim</th><th>pl_bmassjstr</th><th>pl_bmasse</th><th>pl_bmasseerr1</th><th>pl_bmasseerr2</th><th>pl_bmasselim</th><th>pl_bmassestr</th><th>pl_bmassprov</th><th>pl_msinij</th><th>pl_msinijerr1</th><th>pl_msinijerr2</th><th>pl_msinijlim</th><th>pl_msinijstr</th><th>pl_msinie</th><th>pl_msinieerr1</th><th>pl_msinieerr2</th><th>pl_msinielim</th><th>pl_msiniestr</th><th>st_teff</th><th>st_tefferr1</th><th>st_tefferr2</th><th>st_tefflim</th><th>st_teffstr</th><th>st_met</th><th>st_meterr1</th><th>st_meterr2</th><th>st_metlim</th><th>st_metstr</th><th>st_radv</th><th>st_radverr1</th><th>st_radverr2</th><th>st_radvlim</th><th>st_radvstr</th><th>st_vsin</th><th>st_vsinerr1</th><th>st_vsinerr2</th><th>st_vsinlim</th><th>st_vsinstr</th><th>st_lum</th><th>st_lumerr1</th><th>st_lumerr2</th><th>st_lumlim</th><th>st_lumstr</th><th>st_logg</th><th>st_loggerr1</th><th>st_loggerr2</th><th>st_logglim</th><th>st_loggstr</th><th>st_age</th><th>st_ageerr1</th><th>st_ageerr2</th><th>st_agelim</th><th>st_agestr</th><th>st_mass</th><th>st_masserr1</th><th>st_masserr2</th><th>st_masslim</th><th>st_massstr</th><th>st_dens</th><th>st_denserr1</th><th>st_denserr2</th><th>st_denslim</th><th>st_densstr</th><th>st_rad</th><th>st_raderr1</th><th>st_raderr2</th><th>st_radlim</th><th>st_radstr</th><th>ttv_flag</th><th>ptv_flag</th><th>tran_flag</th><th>rv_flag</th><th>ast_flag</th><th>obm_flag</th><th>micro_flag</th><th>etv_flag</th><th>ima_flag</th><th>pul_flag</th><th>soltype</th><th>sy_snum</th><th>sy_pnum</th><th>sy_mnum</th><th>cb_flag</th><th>st_nphot</th><th>st_nrvc</th><th>st_nspec</th><th>pl_nespec</th><th>pl_ntranspec</th><th>pl_nnotes</th><th>sy_pm</th><th>sy_pmerr1</th><th>sy_pmerr2</th><th>sy_pmstr</th><th>sy_pmra</th><th>sy_pmraerr1</th><th>sy_pmraerr2</th><th>sy_pmrastr</th><th>sy_pmdec</th><th>sy_pmdecerr1</th><th>sy_pmdecerr2</th><th>sy_pmdecstr</th><th>sy_plx</th><th>sy_plxerr1</th><th>sy_plxerr2</th><th>sy_plxstr</th><th>sy_dist</th><th>sy_disterr1</th><th>sy_disterr2</th><th>sy_diststr</th><th>sy_bmag</th><th>sy_bmagerr1</th><th>sy_bmagerr2</th><th>sy_bmagstr</th><th>sy_vmag</th><th>sy_vmagerr1</th><th>sy_vmagerr2</th><th>sy_vmagstr</th><th>sy_jmag</th><th>sy_jmagerr1</th><th>sy_jmagerr2</th><th>sy_jmagstr</th><th>sy_hmag</th><th>sy_hmagerr1</th><th>sy_hmagerr2</th><th>sy_hmagstr</th><th>sy_kmag</th><th>sy_kmagerr1</th><th>sy_kmagerr2</th><th>sky_coord</th></tr></thead>\n",
       "<thead><tr><th></th><th></th><th></th><th></th><th></th><th></th><th></th><th></th><th></th><th></th><th></th><th></th><th></th><th></th><th></th><th></th><th></th><th></th><th>deg</th><th></th><th>deg</th><th></th><th>deg</th><th>deg</th><th>deg</th><th>deg</th><th>d</th><th>d</th><th>d</th><th></th><th></th><th>deg</th><th>deg</th><th>deg</th><th></th><th></th><th>AU</th><th>AU</th><th>AU</th><th></th><th></th><th>deg</th><th>deg</th><th>deg</th><th></th><th></th><th>d</th><th>d</th><th>d</th><th></th><th></th><th></th><th></th><th></th><th></th><th></th><th>K</th><th>K</th><th>K</th><th></th><th></th><th>%</th><th>%</th><th>%</th><th></th><th></th><th>0.0795775 solLum / AU2</th><th>0.0795775 solLum / AU2</th><th>0.0795775 solLum / AU2</th><th></th><th></th><th>g / cm3</th><th>g / cm3</th><th>g / cm3</th><th></th><th></th><th>%</th><th>%</th><th>%</th><th></th><th></th><th>d</th><th>d</th><th>d</th><th></th><th></th><th>d</th><th>d</th><th>d</th><th></th><th></th><th></th><th>mag</th><th>mag</th><th>mag</th><th></th><th>mag</th><th>mag</th><th>mag</th><th></th><th>mag</th><th>mag</th><th>mag</th><th></th><th>mag</th><th>mag</th><th>mag</th><th></th><th>mag</th><th>mag</th><th>mag</th><th></th><th>mag</th><th>mag</th><th>mag</th><th></th><th>mag</th><th>mag</th><th>mag</th><th></th><th>mag</th><th>mag</th><th>mag</th><th></th><th>mag</th><th>mag</th><th>mag</th><th></th><th>mag</th><th>mag</th><th>mag</th><th></th><th>mag</th><th>mag</th><th>mag</th><th></th><th></th><th></th><th></th><th></th><th>mag</th><th>mag</th><th>mag</th><th></th><th>d</th><th>d</th><th>d</th><th></th><th></th><th>deg</th><th>deg</th><th>deg</th><th></th><th></th><th></th><th></th><th></th><th></th><th>m / s</th><th>m / s</th><th>m / s</th><th></th><th></th><th>jupiterRad</th><th>jupiterRad</th><th>jupiterRad</th><th></th><th></th><th>earthRad</th><th>earthRad</th><th>earthRad</th><th></th><th></th><th></th><th></th><th></th><th></th><th></th><th></th><th>deg</th><th>deg</th><th>deg</th><th></th><th></th><th>mag</th><th>mag</th><th>mag</th><th></th><th></th><th></th><th></th><th></th><th></th><th></th><th></th><th></th><th></th><th></th><th></th><th></th><th></th><th></th><th>jupiterMass</th><th>jupiterMass</th><th>jupiterMass</th><th></th><th></th><th>earthMass</th><th>earthMass</th><th>earthMass</th><th></th><th></th><th>jupiterMass</th><th>jupiterMass</th><th>jupiterMass</th><th></th><th></th><th>earthMass</th><th>earthMass</th><th>earthMass</th><th></th><th></th><th>jupiterMass</th><th>jupiterMass</th><th>jupiterMass</th><th></th><th></th><th>earthMass</th><th>earthMass</th><th>earthMass</th><th></th><th></th><th></th><th>jupiterMass</th><th>jupiterMass</th><th>jupiterMass</th><th></th><th></th><th>earthMass</th><th>earthMass</th><th>earthMass</th><th></th><th></th><th>K</th><th>K</th><th>K</th><th></th><th></th><th>dex</th><th>dex</th><th>dex</th><th></th><th></th><th>km / s</th><th>km / s</th><th>km / s</th><th></th><th></th><th>km / s</th><th>km / s</th><th>km / s</th><th></th><th></th><th>dex(solLum)</th><th>dex(solLum)</th><th>dex(solLum)</th><th></th><th></th><th>dex(cm / s2)</th><th>dex(cm / s2)</th><th>dex(cm / s2)</th><th></th><th></th><th>Gyr</th><th>Gyr</th><th>Gyr</th><th></th><th></th><th>Msun</th><th>Msun</th><th>Msun</th><th></th><th></th><th>g / cm3</th><th>g / cm3</th><th>g / cm3</th><th></th><th></th><th>Rsun</th><th>Rsun</th><th>Rsun</th><th></th><th></th><th></th><th></th><th></th><th></th><th></th><th></th><th></th><th></th><th></th><th></th><th></th><th></th><th></th><th></th><th></th><th></th><th></th><th></th><th></th><th></th><th></th><th>mas / yr</th><th>mas / yr</th><th>mas / yr</th><th></th><th>mas / yr</th><th>mas / yr</th><th>mas / yr</th><th></th><th>mas / yr</th><th>mas / yr</th><th>mas / yr</th><th></th><th>mas</th><th>mas</th><th>mas</th><th></th><th>pc</th><th>pc</th><th>pc</th><th></th><th>mag</th><th>mag</th><th>mag</th><th></th><th>mag</th><th>mag</th><th>mag</th><th></th><th>mag</th><th>mag</th><th>mag</th><th></th><th>mag</th><th>mag</th><th>mag</th><th></th><th>mag</th><th>mag</th><th>mag</th><th>deg,deg</th></tr></thead>\n",
       "<thead><tr><th>str15</th><th>str1</th><th>str16</th><th>str8</th><th>str9</th><th>str13</th><th>str27</th><th>int32</th><th>str144</th><th>str118</th><th>str7</th><th>int32</th><th>str15</th><th>str6</th><th>str44</th><th>str20</th><th>str33</th><th>str138</th><th>float64</th><th>str12</th><th>float64</th><th>str13</th><th>float64</th><th>float64</th><th>float64</th><th>float64</th><th>float64</th><th>float64</th><th>float64</th><th>int32</th><th>str138</th><th>float64</th><th>float64</th><th>float64</th><th>int32</th><th>str126</th><th>float64</th><th>float64</th><th>float64</th><th>int32</th><th>str134</th><th>float64</th><th>float64</th><th>float64</th><th>int32</th><th>str129</th><th>float64</th><th>float64</th><th>float64</th><th>int32</th><th>str134</th><th>float64</th><th>float64</th><th>float64</th><th>int32</th><th>str131</th><th>float64</th><th>float64</th><th>float64</th><th>int32</th><th>str121</th><th>float64</th><th>float64</th><th>float64</th><th>int32</th><th>str1</th><th>float64</th><th>float64</th><th>float64</th><th>int32</th><th>str126</th><th>float64</th><th>float64</th><th>float64</th><th>int32</th><th>str128</th><th>float64</th><th>float64</th><th>float64</th><th>int32</th><th>str131</th><th>float64</th><th>float64</th><th>float64</th><th>int32</th><th>str140</th><th>float64</th><th>float64</th><th>float64</th><th>int32</th><th>str128</th><th>str21</th><th>float64</th><th>float64</th><th>float64</th><th>str27</th><th>float64</th><th>float64</th><th>float64</th><th>str27</th><th>float64</th><th>float64</th><th>float64</th><th>str27</th><th>float64</th><th>float64</th><th>float64</th><th>str27</th><th>float64</th><th>float64</th><th>float64</th><th>str20</th><th>float64</th><th>float64</th><th>float64</th><th>str19</th><th>float64</th><th>float64</th><th>float64</th><th>str24</th><th>float64</th><th>float64</th><th>float64</th><th>str18</th><th>float64</th><th>float64</th><th>float64</th><th>str27</th><th>float64</th><th>float64</th><th>float64</th><th>str25</th><th>float64</th><th>float64</th><th>float64</th><th>str22</th><th>int32</th><th>str7</th><th>str6</th><th>str4</th><th>float64</th><th>float64</th><th>float64</th><th>str1</th><th>float64</th><th>float64</th><th>float64</th><th>int32</th><th>str125</th><th>float64</th><th>float64</th><th>float64</th><th>int32</th><th>str127</th><th>float64</th><th>float64</th><th>float64</th><th>int32</th><th>float64</th><th>float64</th><th>float64</th><th>int32</th><th>str128</th><th>float64</th><th>float64</th><th>float64</th><th>int32</th><th>str134</th><th>float64</th><th>float64</th><th>float64</th><th>int32</th><th>str128</th><th>float64</th><th>float64</th><th>float64</th><th>int32</th><th>str134</th><th>float64</th><th>float64</th><th>float64</th><th>float64</th><th>int32</th><th>str1</th><th>float64</th><th>float64</th><th>float64</th><th>str1</th><th>str10</th><th>str7</th><th>str138</th><th>str10</th><th>int32</th><th>float64</th><th>float64</th><th>int32</th><th>str134</th><th>float64</th><th>float64</th><th>float64</th><th>int32</th><th>str128</th><th>float64</th><th>float64</th><th>float64</th><th>int32</th><th>str18</th><th>float64</th><th>float64</th><th>float64</th><th>int32</th><th>str13</th><th>float64</th><th>float64</th><th>float64</th><th>int32</th><th>str128</th><th>float64</th><th>float64</th><th>float64</th><th>int32</th><th>str120</th><th>float64</th><th>float64</th><th>float64</th><th>int32</th><th>str128</th><th>float64</th><th>float64</th><th>float64</th><th>int32</th><th>str127</th><th>str5</th><th>float64</th><th>float64</th><th>float64</th><th>int32</th><th>str127</th><th>float64</th><th>float64</th><th>float64</th><th>int32</th><th>str127</th><th>float64</th><th>float64</th><th>float64</th><th>int32</th><th>str121</th><th>float64</th><th>float64</th><th>float64</th><th>int32</th><th>str128</th><th>float64</th><th>float64</th><th>float64</th><th>int32</th><th>str132</th><th>float64</th><th>float64</th><th>float64</th><th>int32</th><th>str17</th><th>float64</th><th>float64</th><th>float64</th><th>int32</th><th>str134</th><th>float64</th><th>float64</th><th>float64</th><th>int32</th><th>str128</th><th>float64</th><th>float64</th><th>float64</th><th>int32</th><th>str123</th><th>float64</th><th>float64</th><th>float64</th><th>int32</th><th>str131</th><th>float64</th><th>float64</th><th>float64</th><th>int32</th><th>str128</th><th>float64</th><th>float64</th><th>float64</th><th>int32</th><th>str131</th><th>int32</th><th>int32</th><th>int32</th><th>int32</th><th>int32</th><th>int32</th><th>int32</th><th>int32</th><th>int32</th><th>int32</th><th>str22</th><th>int32</th><th>int32</th><th>int32</th><th>int32</th><th>int32</th><th>int32</th><th>int32</th><th>int32</th><th>int32</th><th>int32</th><th>float64</th><th>float64</th><th>float64</th><th>str28</th><th>float64</th><th>float64</th><th>float64</th><th>str28</th><th>float64</th><th>float64</th><th>float64</th><th>str28</th><th>float64</th><th>float64</th><th>float64</th><th>str27</th><th>float64</th><th>float64</th><th>float64</th><th>str132</th><th>float64</th><th>float64</th><th>float64</th><th>str19</th><th>float64</th><th>float64</th><th>float64</th><th>str22</th><th>float64</th><th>float64</th><th>float64</th><th>str19</th><th>float64</th><th>float64</th><th>float64</th><th>str21</th><th>float64</th><th>float64</th><th>float64</th><th>SkyCoord</th></tr></thead>\n",
       "<tr><td>HD 62509 b</td><td>b</td><td>HD 62509</td><td>HD 62509</td><td>HIP 37826</td><td>TIC 423088367</td><td></td><td>0</td><td>&lt;a refstr=REFFERT_ET_AL__2006 href=https://ui.adsabs.harvard.edu/abs/2006ApJ...652..661R/abstract target=ref&gt; Reffert et al. 2006 &lt;/a&gt;</td><td>&lt;a refstr=STASSUN_ET_AL__2019 href=https://ui.adsabs.harvard.edu/abs/2019AJ....158..138S/abstract target=ref&gt;TICv8&lt;/a&gt;</td><td>2006-10</td><td>2006</td><td>Radial Velocity</td><td>Ground</td><td>Multiple Observatories</td><td>Multiple Instruments</td><td>Multiple Telescopes</td><td>&lt;a refstr=HATZES_ET_AL__2006 href=https://ui.adsabs.harvard.edu/abs/2006A&amp;A...457..335H/abstract target=ref&gt; Hatzes et al. 2006 &lt;/a&gt;</td><td>116.328824</td><td>07h45m18.92s</td><td>28.026127</td><td>+28d01m34.06s</td><td>192.22932</td><td>23.40613</td><td>113.21554</td><td>6.68411</td><td>589.7</td><td>3.5</td><td>-3.5</td><td>0</td><td>589.7&amp;plusmn;3.5</td><td>8.0</td><td>277.0</td><td>-8.0</td><td>0</td><td>277&amp;plusmn;8</td><td>1.69</td><td>0.03</td><td>-0.03</td><td>0</td><td>1.69&amp;plusmn;0.03</td><td>nan</td><td>nan</td><td>nan</td><td>0</td><td></td><td>2452337.9</td><td>70.0</td><td>-52.0</td><td>0</td><td>&lt;div&gt;&lt;span class=&quot;supersubNumber&quot;&gt;2452337.9&lt;/span&gt; &lt;span class=&quot;superscript&quot;&gt;+70&lt;/span&gt;&lt;span class=&quot;subscript&quot;&gt;-52&lt;/span&gt; &lt;/div&gt;</td><td>0.06</td><td>0.04</td><td>-0.04</td><td>0</td><td>0.06&amp;plusmn;0.04</td><td>nan</td><td>nan</td><td>nan</td><td>0</td><td></td><td>nan</td><td>nan</td><td>nan</td><td>0</td><td></td><td>nan</td><td>nan</td><td>nan</td><td>0</td><td></td><td>nan</td><td>nan</td><td>nan</td><td>0</td><td></td><td>nan</td><td>nan</td><td>nan</td><td>0</td><td></td><td>nan</td><td>nan</td><td>nan</td><td>0</td><td></td><td>nan</td><td>nan</td><td>nan</td><td>0</td><td></td><td>-0.9360&amp;plusmn;0.1600</td><td>nan</td><td>nan</td><td>nan</td><td></td><td>nan</td><td>nan</td><td>nan</td><td></td><td>nan</td><td>nan</td><td>nan</td><td></td><td>nan</td><td>nan</td><td>nan</td><td></td><td>nan</td><td>nan</td><td>nan</td><td></td><td>nan</td><td>nan</td><td>nan</td><td></td><td>nan</td><td>nan</td><td>nan</td><td></td><td>nan</td><td>nan</td><td>nan</td><td></td><td>nan</td><td>nan</td><td>nan</td><td></td><td>nan</td><td>nan</td><td>nan</td><td></td><td>0.443</td><td>0.239</td><td>-0.239</td><td>0.443&amp;plusmn;0.239</td><td>0</td><td></td><td></td><td></td><td>nan</td><td>nan</td><td>nan</td><td></td><td>nan</td><td>nan</td><td>nan</td><td>0</td><td></td><td>nan</td><td>nan</td><td>nan</td><td>0</td><td></td><td>-0.39151181018842707</td><td>0.7911616744118656</td><td>0.4698741399830324</td><td>-344487131</td><td>46.9</td><td>1.5</td><td>-1.5</td><td>0</td><td>46.9&amp;plusmn;1.5</td><td>nan</td><td>nan</td><td>nan</td><td>0</td><td></td><td>nan</td><td>nan</td><td>nan</td><td>0</td><td></td><td>nan</td><td>nan</td><td>nan</td><td>0</td><td></td><td>nan</td><td>nan</td><td>nan</td><td>nan</td><td>0</td><td></td><td>nan</td><td>nan</td><td>nan</td><td></td><td>2015-03-26</td><td>2006-11</td><td>&lt;a refstr=REFFERT_ET_AL__2006 href=https://ui.adsabs.harvard.edu/abs/2006ApJ...652..661R/abstract target=ref&gt; Reffert et al. 2006 &lt;/a&gt;</td><td>2015-03-26</td><td>0</td><td>nan</td><td>nan</td><td>0</td><td></td><td>nan</td><td>nan</td><td>nan</td><td>0</td><td></td><td>nan</td><td>nan</td><td>nan</td><td>0</td><td></td><td>nan</td><td>nan</td><td>nan</td><td>0</td><td></td><td>nan</td><td>nan</td><td>nan</td><td>0</td><td></td><td>nan</td><td>nan</td><td>nan</td><td>0</td><td></td><td>2.9</td><td>0.1</td><td>-0.1</td><td>0</td><td>2.9&amp;plusmn;0.1</td><td>920.0</td><td>30.0</td><td>-30.0</td><td>0</td><td>920&amp;plusmn;30</td><td>Msini</td><td>2.9</td><td>0.1</td><td>-0.1</td><td>0</td><td>2.9&amp;plusmn;0.1</td><td>920.0</td><td>30.0</td><td>-30.0</td><td>0</td><td>920&amp;plusmn;30</td><td>nan</td><td>nan</td><td>nan</td><td>0</td><td></td><td>nan</td><td>nan</td><td>nan</td><td>0</td><td></td><td>nan</td><td>nan</td><td>nan</td><td>0</td><td></td><td>nan</td><td>nan</td><td>nan</td><td>0</td><td></td><td>nan</td><td>nan</td><td>nan</td><td>0</td><td></td><td>nan</td><td>nan</td><td>nan</td><td>0</td><td></td><td>nan</td><td>nan</td><td>nan</td><td>0</td><td></td><td>1.7</td><td>0.4</td><td>-0.4</td><td>0</td><td>1.7&amp;plusmn;0.4</td><td>nan</td><td>nan</td><td>nan</td><td>0</td><td></td><td>8.9</td><td>0.4</td><td>-0.4</td><td>0</td><td>8.9&amp;plusmn;0.4</td><td>0</td><td>0</td><td>0</td><td>1</td><td>0</td><td>0</td><td>0</td><td>0</td><td>0</td><td>0</td><td>Published Confirmed</td><td>1</td><td>1</td><td>0</td><td>0</td><td>1</td><td>7</td><td>0</td><td>0</td><td>0</td><td>1</td><td>627.6878205</td><td>8.0</td><td>-8.0</td><td>627.6878205&amp;plusmn;8.0000000</td><td>-626.0</td><td>8.0</td><td>-8.0</td><td>-626.0&amp;plusmn;8.0</td><td>-46.0</td><td>8.0</td><td>-8.0</td><td>-46.0&amp;plusmn;8.0</td><td>nan</td><td>nan</td><td>nan</td><td></td><td>nan</td><td>nan</td><td>nan</td><td></td><td>nan</td><td>nan</td><td>nan</td><td></td><td>1.12512</td><td>0.023</td><td>-0.023</td><td>1.12512&amp;plusmn;0.02300</td><td>-0.315</td><td>0.232</td><td>-0.232</td><td>-0.315&amp;plusmn;0.232</td><td>-0.845</td><td>0.178</td><td>-0.178</td><td>-0.8450&amp;plusmn;0.1780</td><td>-0.936</td><td>0.16</td><td>-0.16</td><td>116.328824,28.026127</td></tr>\n",
       "</table>"
      ],
      "text/plain": [
       "<Row index=0 masked=True>\n",
       " pl_name   pl_letter hostname hd_name   hip_name     tic_id    gaia_id default_flag                                                               pl_refname                                                                                                                     sy_refname                                                       disc_pubdate disc_year discoverymethod disc_locale     disc_facility        disc_instrument       disc_telescope                                                               disc_refname                                                                 ra        rastr        dec        decstr       glon     glat      elon     elat  pl_orbper pl_orbpererr1 pl_orbpererr2 pl_orbperlim   pl_orbperstr   pl_orblpererr1 pl_orblper pl_orblpererr2 pl_orblperlim pl_orblperstr pl_orbsmax pl_orbsmaxerr1 pl_orbsmaxerr2 pl_orbsmaxlim  pl_orbsmaxstr   pl_orbincl pl_orbinclerr1 pl_orbinclerr2 pl_orbincllim pl_orbinclstr pl_orbtper pl_orbtpererr1 pl_orbtpererr2 pl_orbtperlim                                                          pl_orbtperstr                                                           pl_orbeccen pl_orbeccenerr1 pl_orbeccenerr2 pl_orbeccenlim  pl_orbeccenstr   pl_eqt pl_eqterr1 pl_eqterr2 pl_eqtlim pl_eqtstr pl_occdep pl_occdeperr1 pl_occdeperr2 pl_occdeplim pl_occdepstr        pl_insol             pl_insolerr1           pl_insolerr2      pl_insollim pl_insolstr pl_dens pl_denserr1 pl_denserr2 pl_denslim pl_densstr pl_trandep pl_trandeperr1 pl_trandeperr2 pl_trandeplim pl_trandepstr pl_tranmid pl_tranmiderr1 pl_tranmiderr2 pl_tranmidlim pl_tranmidstr pl_trandur pl_trandurerr1 pl_trandurerr2 pl_trandurlim pl_trandurstr       sy_kmagstr      sy_umag sy_umagerr1 sy_umagerr2 sy_umagstr sy_rmag sy_rmagerr1 sy_rmagerr2 sy_rmagstr sy_imag sy_imagerr1 sy_imagerr2 sy_imagstr sy_zmag sy_zmagerr1 sy_zmagerr2 sy_zmagstr sy_w1mag sy_w1magerr1 sy_w1magerr2 sy_w1magstr sy_w2mag sy_w2magerr1 sy_w2magerr2 sy_w2magstr sy_w3mag sy_w3magerr1 sy_w3magerr2 sy_w3magstr sy_w4mag sy_w4magerr1 sy_w4magerr2 sy_w4magstr sy_gmag sy_gmagerr1 sy_gmagerr2 sy_gmagstr sy_gaiamag sy_gaiamagerr1 sy_gaiamagerr2 sy_gaiamagstr sy_tmag sy_tmagerr1 sy_tmagerr2     sy_tmagstr     pl_controv_flag pl_tsystemref st_metratio st_spectype sy_kepmag sy_kepmagerr1 sy_kepmagerr2 sy_kepmagstr st_rotp st_rotperr1 st_rotperr2 st_rotplim st_rotpstr pl_projobliq pl_projobliqerr1 pl_projobliqerr2 pl_projobliqlim pl_projobliqstr          x                   y                  z            htm20    pl_rvamp pl_rvamperr1 pl_rvamperr2 pl_rvamplim   pl_rvampstr    pl_radj   pl_radjerr1 pl_radjerr2 pl_radjlim pl_radjstr pl_rade  pl_radeerr1 pl_radeerr2 pl_radelim pl_radestr pl_ratror pl_ratrorerr1 pl_ratrorerr2 pl_ratrorlim pl_ratrorstr pl_ratdor pl_trueobliq pl_trueobliqerr1 pl_trueobliqerr2 pl_trueobliqlim pl_trueobliqstr sy_icmag sy_icmagerr1 sy_icmagerr2 sy_icmagstr rowupdate  pl_pubdate                                                               st_refname                                                               releasedate dkin_flag pl_ratdorerr1 pl_ratdorerr2 pl_ratdorlim pl_ratdorstr pl_imppar pl_impparerr1 pl_impparerr2 pl_impparlim pl_impparstr  pl_cmassj  pl_cmassjerr1 pl_cmassjerr2 pl_cmassjlim pl_cmassjstr pl_cmasse pl_cmasseerr1 pl_cmasseerr2 pl_cmasselim pl_cmassestr   pl_massj  pl_massjerr1 pl_massjerr2 pl_massjlim pl_massjstr  pl_masse pl_masseerr1 pl_masseerr2 pl_masselim pl_massestr  pl_bmassj  pl_bmassjerr1 pl_bmassjerr2 pl_bmassjlim  pl_bmassjstr  pl_bmasse pl_bmasseerr1 pl_bmasseerr2 pl_bmasselim  pl_bmassestr pl_bmassprov  pl_msinij  pl_msinijerr1 pl_msinijerr2 pl_msinijlim  pl_msinijstr  pl_msinie pl_msinieerr1 pl_msinieerr2 pl_msinielim  pl_msiniestr st_teff st_tefferr1 st_tefferr2 st_tefflim st_teffstr  st_met st_meterr1 st_meterr2 st_metlim st_metstr st_radv st_radverr1 st_radverr2 st_radvlim st_radvstr st_vsin st_vsinerr1 st_vsinerr2 st_vsinlim st_vsinstr    st_lum    st_lumerr1  st_lumerr2 st_lumlim st_lumstr   st_logg    st_loggerr1  st_loggerr2  st_logglim st_loggstr  st_age st_ageerr1 st_ageerr2 st_agelim st_agestr st_mass st_masserr1 st_masserr2 st_masslim   st_massstr   st_dens st_denserr1 st_denserr2 st_denslim st_densstr  st_rad st_raderr1 st_raderr2 st_radlim   st_radstr    ttv_flag ptv_flag tran_flag rv_flag ast_flag obm_flag micro_flag etv_flag ima_flag pul_flag       soltype       sy_snum sy_pnum sy_mnum cb_flag st_nphot st_nrvc st_nspec pl_nespec pl_ntranspec pl_nnotes    sy_pm    sy_pmerr1 sy_pmerr2           sy_pmstr           sy_pmra  sy_pmraerr1 sy_pmraerr2     sy_pmrastr    sy_pmdec sy_pmdecerr1 sy_pmdecerr2   sy_pmdecstr     sy_plx sy_plxerr1 sy_plxerr2 sy_plxstr sy_dist sy_disterr1 sy_disterr2 sy_diststr sy_bmag sy_bmagerr1 sy_bmagerr2 sy_bmagstr sy_vmag sy_vmagerr1 sy_vmagerr2       sy_vmagstr       sy_jmag sy_jmagerr1 sy_jmagerr2      sy_jmagstr     sy_hmag sy_hmagerr1 sy_hmagerr2       sy_hmagstr      sy_kmag sy_kmagerr1 sy_kmagerr2      sky_coord      \n",
       "                                                                                                                                                                                                                                                                                                                                                                                                                                                                                                                                                                                                             deg                     deg                     deg      deg       deg      deg       d           d             d                                          deg          deg          deg                                       AU           AU             AU                                         deg          deg            deg                                       d            d              d                                                                                                                                                                                                                                      K        K          K                              %           %             %                                 0.0795775 solLum / AU2 0.0795775 solLum / AU2 0.0795775 solLum / AU2                         g / cm3   g / cm3     g / cm3                             %            %              %                                        d            d              d                                        d            d              d                                                            mag       mag         mag                  mag       mag         mag                  mag       mag         mag                  mag       mag         mag                  mag        mag          mag                    mag        mag          mag                    mag        mag          mag                    mag        mag          mag                    mag       mag         mag                   mag          mag            mag                       mag       mag         mag                                                                                 mag         mag           mag                      d         d           d                                deg            deg              deg                                                                                                               m / s      m / s        m / s                                 jupiterRad  jupiterRad  jupiterRad                       earthRad   earthRad    earthRad                                                                                                      deg            deg              deg                                          mag        mag          mag                                                                                                                                                                                                                                                                                                                           jupiterMass  jupiterMass   jupiterMass                            earthMass   earthMass     earthMass                             jupiterMass jupiterMass  jupiterMass                          earthMass  earthMass    earthMass                           jupiterMass  jupiterMass   jupiterMass                              earthMass   earthMass     earthMass                                           jupiterMass  jupiterMass   jupiterMass                              earthMass   earthMass     earthMass                                 K         K           K                              dex      dex        dex                          km / s    km / s      km / s                          km / s    km / s      km / s                         dex(solLum) dex(solLum) dex(solLum)                     dex(cm / s2) dex(cm / s2) dex(cm / s2)                         Gyr      Gyr        Gyr                           Msun      Msun        Msun                              g / cm3   g / cm3     g / cm3                           Rsun     Rsun       Rsun                                                                                                                                                                                                                                          mas / yr   mas / yr  mas / yr                              mas / yr   mas / yr    mas / yr                    mas / yr   mas / yr     mas / yr                      mas      mas        mas                  pc        pc          pc                  mag       mag         mag                  mag       mag         mag                              mag       mag         mag                           mag       mag         mag                             mag       mag         mag           deg,deg       \n",
       "  str15       str1    str16     str8      str9       str13      str27     int32                                                                     str144                                                                                                                         str118                                                             str7       int32        str15          str6            str44                 str20                str33                                                                       str138                                                                 float64      str12      float64      str13      float64  float64   float64  float64  float64     float64       float64       int32          str138         float64      float64      float64         int32         str126     float64      float64        float64         int32          str134       float64      float64        float64         int32         str129     float64      float64        float64         int32                                                                  str134                                                                float64       float64         float64         int32           str131      float64  float64    float64     int32     str121   float64     float64       float64       int32         str1            float64                float64                float64            int32       str126   float64   float64     float64     int32      str128    float64      float64        float64         int32         str131     float64      float64        float64         int32         str140     float64      float64        float64         int32         str128            str21         float64   float64     float64     str27    float64   float64     float64     str27    float64   float64     float64     str27    float64   float64     float64     str27    float64    float64      float64       str20    float64    float64      float64       str19    float64    float64      float64       str24    float64    float64      float64       str18    float64   float64     float64     str27     float64      float64        float64         str25     float64   float64     float64         str22             int32           str7         str6        str4     float64     float64       float64        str1     float64   float64     float64     int32      str125     float64        float64          float64           int32           str127           float64             float64            float64         int32    float64    float64      float64       int32         str128      float64     float64     float64     int32      str134   float64    float64     float64     int32      str128    float64     float64       float64       int32        str134     float64    float64        float64          float64           int32            str1      float64    float64      float64        str1      str10       str7                                                                    str138                                                                    str10      int32      float64       float64       int32        str134     float64     float64       float64       int32        str128      float64      float64       float64       int32        str18      float64     float64       float64       int32        str13       float64     float64      float64       int32       str128    float64    float64      float64       int32       str120     float64      float64       float64       int32         str128      float64     float64       float64       int32         str127        str5       float64      float64       float64       int32         str127      float64     float64       float64       int32         str127    float64   float64     float64     int32      str121   float64  float64    float64     int32     str128  float64   float64     float64     int32      str132   float64   float64     float64     int32      str17      float64     float64     float64     int32     str134    float64      float64      float64      int32      str128   float64  float64    float64     int32     str123  float64   float64     float64     int32        str131     float64   float64     float64     int32      str128   float64  float64    float64     int32       str131      int32    int32     int32    int32   int32    int32     int32     int32    int32    int32          str22         int32   int32   int32   int32   int32    int32   int32     int32      int32       int32     float64    float64   float64             str28             float64    float64     float64         str28       float64    float64      float64         str28       float64  float64    float64     str27   float64   float64     float64     str132   float64   float64     float64     str19    float64   float64     float64           str22          float64   float64     float64          str19        float64   float64     float64           str21         float64   float64     float64         SkyCoord      \n",
       "---------- --------- -------- -------- --------- ------------- ------- ------------ -------------------------------------------------------------------------------------------------------------------------------------- ---------------------------------------------------------------------------------------------------------------------- ------------ --------- --------------- ----------- ---------------------- -------------------- ------------------- ------------------------------------------------------------------------------------------------------------------------------------ ---------- ------------ --------- ------------- --------- -------- --------- ------- --------- ------------- ------------- ------------ ---------------- -------------- ---------- -------------- ------------- ------------- ---------- -------------- -------------- ------------- ---------------- ---------- -------------- -------------- ------------- ------------- ---------- -------------- -------------- ------------- -------------------------------------------------------------------------------------------------------------------------------- ----------- --------------- --------------- -------------- ---------------- ------- ---------- ---------- --------- --------- --------- ------------- ------------- ------------ ------------ ---------------------- ---------------------- ---------------------- ----------- ----------- ------- ----------- ----------- ---------- ---------- ---------- -------------- -------------- ------------- ------------- ---------- -------------- -------------- ------------- ------------- ---------- -------------- -------------- ------------- ------------- --------------------- ------- ----------- ----------- ---------- ------- ----------- ----------- ---------- ------- ----------- ----------- ---------- ------- ----------- ----------- ---------- -------- ------------ ------------ ----------- -------- ------------ ------------ ----------- -------- ------------ ------------ ----------- -------- ------------ ------------ ----------- ------- ----------- ----------- ---------- ---------- -------------- -------------- ------------- ------- ----------- ----------- ------------------ --------------- ------------- ----------- ----------- --------- ------------- ------------- ------------ ------- ----------- ----------- ---------- ---------- ------------ ---------------- ---------------- --------------- --------------- -------------------- ------------------ ------------------ ---------- -------- ------------ ------------ ----------- --------------- ---------- ----------- ----------- ---------- ---------- -------- ----------- ----------- ---------- ---------- --------- ------------- ------------- ------------ ------------ --------- ------------ ---------------- ---------------- --------------- --------------- -------- ------------ ------------ ----------- ---------- ---------- -------------------------------------------------------------------------------------------------------------------------------------- ----------- --------- ------------- ------------- ------------ ------------ --------- ------------- ------------- ------------ ------------ ----------- ------------- ------------- ------------ ------------ --------- ------------- ------------- ------------ ------------ ----------- ------------ ------------ ----------- ----------- --------- ------------ ------------ ----------- ----------- ----------- ------------- ------------- ------------ -------------- --------- ------------- ------------- ------------ ------------- ------------ ----------- ------------- ------------- ------------ -------------- --------- ------------- ------------- ------------ ------------- ------- ----------- ----------- ---------- ---------- ------- ---------- ---------- --------- --------- ------- ----------- ----------- ---------- ---------- ------- ----------- ----------- ---------- ---------- ----------- ----------- ----------- --------- --------- ------------ ------------ ------------ ---------- ---------- ------- ---------- ---------- --------- --------- ------- ----------- ----------- ---------- -------------- ------- ----------- ----------- ---------- ---------- ------- ---------- ---------- --------- -------------- -------- -------- --------- ------- -------- -------- ---------- -------- -------- -------- ------------------- ------- ------- ------- ------- -------- ------- -------- --------- ------------ --------- ----------- --------- --------- ---------------------------- -------- ----------- ----------- ----------------- -------- ------------ ------------ ---------------- ------- ---------- ---------- --------- ------- ----------- ----------- ---------- ------- ----------- ----------- ---------- ------- ----------- ----------- ---------------------- ------- ----------- ----------- ------------------- ------- ----------- ----------- --------------------- ------- ----------- ----------- --------------------\n",
       "HD 62509 b         b HD 62509 HD 62509 HIP 37826 TIC 423088367                    0 <a refstr=REFFERT_ET_AL__2006 href=https://ui.adsabs.harvard.edu/abs/2006ApJ...652..661R/abstract target=ref> Reffert et al. 2006 </a> <a refstr=STASSUN_ET_AL__2019 href=https://ui.adsabs.harvard.edu/abs/2019AJ....158..138S/abstract target=ref>TICv8</a>      2006-10      2006 Radial Velocity      Ground Multiple Observatories Multiple Instruments Multiple Telescopes <a refstr=HATZES_ET_AL__2006 href=https://ui.adsabs.harvard.edu/abs/2006A&A...457..335H/abstract target=ref> Hatzes et al. 2006 </a> 116.328824 07h45m18.92s 28.026127 +28d01m34.06s 192.22932 23.40613 113.21554 6.68411     589.7           3.5          -3.5            0 589.7&plusmn;3.5            8.0      277.0           -8.0             0  277&plusmn;8       1.69           0.03          -0.03             0 1.69&plusmn;0.03        nan            nan            nan             0                2452337.9           70.0          -52.0             0 <div><span class=\"supersubNumber\">2452337.9</span> <span class=\"superscript\">+70</span><span class=\"subscript\">-52</span> </div>        0.06            0.04           -0.04              0 0.06&plusmn;0.04     nan        nan        nan         0                 nan           nan           nan            0                                 nan                    nan                    nan           0                 nan         nan         nan          0                   nan            nan            nan             0                      nan            nan            nan             0                      nan            nan            nan             0               -0.9360&plusmn;0.1600     nan         nan         nan                nan         nan         nan                nan         nan         nan                nan         nan         nan                 nan          nan          nan                  nan          nan          nan                  nan          nan          nan                  nan          nan          nan                 nan         nan         nan                   nan            nan            nan                 0.443       0.239      -0.239 0.443&plusmn;0.239               0                                             nan           nan           nan                  nan         nan         nan          0                     nan              nan              nan               0                 -0.39151181018842707 0.7911616744118656 0.4698741399830324 -344487131     46.9          1.5         -1.5           0 46.9&plusmn;1.5        nan         nan         nan          0                 nan         nan         nan          0                  nan           nan           nan            0                    nan          nan              nan              nan               0                      nan          nan          nan             2015-03-26    2006-11 <a refstr=REFFERT_ET_AL__2006 href=https://ui.adsabs.harvard.edu/abs/2006ApJ...652..661R/abstract target=ref> Reffert et al. 2006 </a>  2015-03-26         0           nan           nan            0                    nan           nan           nan            0                      nan           nan           nan            0                    nan           nan           nan            0                      nan          nan          nan           0                   nan          nan          nan           0                     2.9           0.1          -0.1            0 2.9&plusmn;0.1     920.0          30.0         -30.0            0 920&plusmn;30        Msini         2.9           0.1          -0.1            0 2.9&plusmn;0.1     920.0          30.0         -30.0            0 920&plusmn;30     nan         nan         nan          0                nan        nan        nan         0               nan         nan         nan          0                nan         nan         nan          0                    nan         nan         nan         0                    nan          nan          nan          0                nan        nan        nan         0               1.7         0.4        -0.4          0 1.7&plusmn;0.4     nan         nan         nan          0                8.9        0.4       -0.4         0 8.9&plusmn;0.4        0        0         0       1        0        0          0        0        0        0 Published Confirmed       1       1       0       0        1       7        0         0            0         1 627.6878205       8.0      -8.0 627.6878205&plusmn;8.0000000   -626.0         8.0        -8.0 -626.0&plusmn;8.0    -46.0          8.0         -8.0 -46.0&plusmn;8.0     nan        nan        nan               nan         nan         nan                nan         nan         nan            1.12512       0.023      -0.023 1.12512&plusmn;0.02300  -0.315       0.232      -0.232 -0.315&plusmn;0.232  -0.845       0.178      -0.178 -0.8450&plusmn;0.1780  -0.936        0.16       -0.16 116.328824,28.026127"
      ]
     },
     "execution_count": 32,
     "metadata": {},
     "output_type": "execute_result"
    }
   ],
   "source": [
    "test_table[0]"
   ]
  },
  {
   "cell_type": "code",
   "execution_count": 30,
   "id": "c311c894",
   "metadata": {},
   "outputs": [
    {
     "data": {
      "text/plain": [
       "'HD 62509'"
      ]
     },
     "execution_count": 30,
     "metadata": {},
     "output_type": "execute_result"
    }
   ],
   "source": [
    "test_table[0][\"hostname\"]"
   ]
  },
  {
   "cell_type": "code",
   "execution_count": 66,
   "id": "ec195274",
   "metadata": {},
   "outputs": [],
   "source": [
    "def map_eccentricity_to_trait(eccentricity):\n",
    "    if eccentricity < 0.3:\n",
    "        return \"like stability\"\n",
    "    elif 0.3 <= eccentricity < 0.6:\n",
    "        return \"are balanced\"\n",
    "    else:\n",
    "        return \"like change\"\n",
    "\n",
    "def map_semi_major_axis_to_trait(semi_major_axis):\n",
    "    if semi_major_axis < 0.5:  \n",
    "        return \"introverted\"\n",
    "    else:\n",
    "        return \"extroverted\""
   ]
  },
  {
   "cell_type": "code",
   "execution_count": 31,
   "id": "b8eeb876",
   "metadata": {},
   "outputs": [],
   "source": [
    "def map_period_to_trait(period):\n",
    "    if period < 10:\n",
    "        return \"quick thinker\"\n",
    "    elif 10 <= period < 100:\n",
    "        return \"balanced thinker\"\n",
    "    else:\n",
    "        return \"deep thinker\"\n",
    "\n",
    "def map_stellar_mass_to_trait(stellar_mass):\n",
    "    if stellar_mass < 1.0:\n",
    "        return \"modest\"\n",
    "    elif 1.0 <= stellar_mass < 1.5:\n",
    "        return \"confident\"\n",
    "    else:\n",
    "        return \"assertive\""
   ]
  },
  {
   "cell_type": "code",
   "execution_count": 69,
   "id": "7ffd6f96",
   "metadata": {},
   "outputs": [],
   "source": [
    "def generate_horoscope_message(table):\n",
    "    name = table[0]['pl_name']\n",
    "    star = table[0]['hostname']\n",
    "    eccentricity = table[0][\"pl_orbeccen\"]\n",
    "    semi_major_axis = float(table[0]['pl_orbsmax'].value)\n",
    "    period = float(table[0]['pl_orbper'].value)\n",
    "    stellar_mass = float(table[0]['st_mass'].value)\n",
    "    \n",
    "    eccentricity_trait = map_eccentricity_to_trait(eccentricity)\n",
    "    axis_trait = map_semi_major_axis_to_trait(semi_major_axis)\n",
    "    period_trait = map_period_to_trait(period)\n",
    "    stellar_mass_trait = map_stellar_mass_to_trait(stellar_mass)\n",
    "    \n",
    "    message = (f\"Your birth exoplanet is {name} orbiting star {star}. \"\n",
    "               f\"Based on an eccentricity of {eccentricity:.2f}, you {eccentricity_trait}. \"\n",
    "               f\"With an orbit semi-major axis of {semi_major_axis:.2f} AU, you are {axis_trait}. \"\n",
    "               f\"Your exoplanet period of {period:.2f} days makes you a {period_trait}, \"\n",
    "               f\"and with a stellar mass of {stellar_mass:.2f} solar masses, you are {stellar_mass_trait}.\")\n",
    "    \n",
    "    return message"
   ]
  },
  {
   "cell_type": "code",
   "execution_count": 68,
   "id": "9a4bdb55",
   "metadata": {},
   "outputs": [
    {
     "data": {
      "text/plain": [
       "'Your birth exoplanet is HD 62509 b orbiting star HD 62509. Based on an eccentricity of 0.06, you like stability. With an orbit semi-major axis of 1.69 AU, you are extroverted. Your period of 589.70 days makes you a deep thinker, and with a stellar mass of 1.70 solar masses, you are assertive.'"
      ]
     },
     "execution_count": 68,
     "metadata": {},
     "output_type": "execute_result"
    }
   ],
   "source": [
    "generate_horoscope_message(test_table)"
   ]
  },
  {
   "cell_type": "code",
   "execution_count": null,
   "id": "eb3e6f9c",
   "metadata": {},
   "outputs": [],
   "source": []
  }
 ],
 "metadata": {
  "kernelspec": {
   "display_name": "codeastro",
   "language": "python",
   "name": "python3"
  },
  "language_info": {
   "codemirror_mode": {
    "name": "ipython",
    "version": 3
   },
   "file_extension": ".py",
   "mimetype": "text/x-python",
   "name": "python",
   "nbconvert_exporter": "python",
   "pygments_lexer": "ipython3",
   "version": "3.10.14"
  }
 },
 "nbformat": 4,
 "nbformat_minor": 5
}
